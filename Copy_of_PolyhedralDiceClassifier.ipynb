{
  "nbformat": 4,
  "nbformat_minor": 0,
  "metadata": {
    "colab": {
      "name": "Copy of PolyhedralDiceClassifier.ipynb",
      "provenance": [],
      "collapsed_sections": [],
      "authorship_tag": "ABX9TyMNz/da3DXKbnrtiqevP6wo",
      "include_colab_link": true
    },
    "kernelspec": {
      "name": "python3",
      "display_name": "Python 3"
    },
    "accelerator": "GPU"
  },
  "cells": [
    {
      "cell_type": "markdown",
      "metadata": {
        "id": "view-in-github",
        "colab_type": "text"
      },
      "source": [
        "<a href=\"https://colab.research.google.com/github/Abhinand20/Abhinand/blob/master/Copy_of_PolyhedralDiceClassifier.ipynb\" target=\"_parent\"><img src=\"https://colab.research.google.com/assets/colab-badge.svg\" alt=\"Open In Colab\"/></a>"
      ]
    },
    {
      "cell_type": "code",
      "metadata": {
        "id": "5lgE-BN4kr5_",
        "colab_type": "code",
        "outputId": "eaf1786b-8b4e-49d3-98be-8308ef11f2f5",
        "colab": {
          "base_uri": "https://localhost:8080/",
          "height": 34
        }
      },
      "source": [
        "import os\n",
        "from keras.models import Sequential\n",
        "from keras.layers import Dense, Conv2D, MaxPooling2D, Flatten, Dropout\n",
        "from keras.optimizers import Adam\n",
        "from keras.preprocessing.image import ImageDataGenerator"
      ],
      "execution_count": 0,
      "outputs": [
        {
          "output_type": "stream",
          "text": [
            "Using TensorFlow backend.\n"
          ],
          "name": "stderr"
        }
      ]
    },
    {
      "cell_type": "code",
      "metadata": {
        "id": "wtOR4rBykwdz",
        "colab_type": "code",
        "colab": {}
      },
      "source": [
        "keep_prob = 0.7\n",
        "\n",
        "train_dir = os.path.join('/content/gdrive/My Drive/Kaggle/dice-d4-d6-d8-d10-d12-d20/dice/train')\n",
        "\n",
        "test_dir = os.path.join('/content/gdrive/My Drive/Kaggle/dice-d4-d6-d8-d10-d12-d20/dice/valid')\n",
        "\n",
        "if not os.path.isdir('models'):\n",
        "    os.makedirs('models')"
      ],
      "execution_count": 0,
      "outputs": []
    },
    {
      "cell_type": "code",
      "metadata": {
        "id": "XpeW3wdpl_MA",
        "colab_type": "code",
        "colab": {}
      },
      "source": [
        "def create_model():\n",
        "    model = Sequential()\n",
        "    model.add(Conv2D(64 , (3,3) , activation = 'relu', input_shape = (300,300,3)))\n",
        "    model.add(MaxPooling2D(2,2))\n",
        "    model.add(Conv2D(64 , (3,3) , activation='relu'))\n",
        "    model.add(MaxPooling2D(2,2))\n",
        "    model.add(Conv2D(32 , (3,3) , activation='relu'))\n",
        "    model.add(MaxPooling2D(2,2))\n",
        "    \n",
        "    model.add(Flatten())\n",
        "    model.add(Dense(512, activation = 'relu'))\n",
        "    model.add(Dropout(keep_prob))\n",
        "    model.add(Dense(64, activation = 'relu'))\n",
        "    model.add(Dense(6, activation= 'softmax'))\n",
        "    \n",
        "    model.compile(loss = 'categorical_crossentropy', optimizer = Adam(learning_rate=0.0001), metrics = ['accuracy'])\n",
        "    \n",
        "    return model\n"
      ],
      "execution_count": 0,
      "outputs": []
    },
    {
      "cell_type": "code",
      "metadata": {
        "id": "A9pxT-qtmDes",
        "colab_type": "code",
        "colab": {}
      },
      "source": [
        "def train_model(model):\n",
        "    train_datagen = ImageDataGenerator(rescale=1./255.)\n",
        "    test_datagen = ImageDataGenerator(rescale=1./255.)\n",
        "\n",
        "    train_generator = train_datagen.flow_from_directory(\n",
        "    train_dir,\n",
        "    target_size = (300,300),\n",
        "    batch_size = 10,\n",
        "    class_mode='categorical')\n",
        "\n",
        "    test_generator = test_datagen.flow_from_directory(\n",
        "    test_dir,\n",
        "    target_size = (300,300),\n",
        "    batch_size = 10,\n",
        "    class_mode='categorical')\n",
        "    \n",
        "    train_steps = len(train_generator)\n",
        "    test_steps = len(test_generator)\n",
        "    model.fit_generator(\n",
        "            train_generator,\n",
        "            steps_per_epoch = train_steps,\n",
        "            epochs = 10,\n",
        "            verbose = 1,\n",
        "            validation_data = test_generator,\n",
        "            validation_steps = test_steps\n",
        "            )\n",
        "    \n",
        "    model.save(f'models/SimpleConvNet.model')"
      ],
      "execution_count": 0,
      "outputs": []
    },
    {
      "cell_type": "code",
      "metadata": {
        "id": "XK4VCZ7ysZTs",
        "colab_type": "code",
        "outputId": "bc973e54-a828-4ee0-d8d3-412aefcc7183",
        "colab": {
          "base_uri": "https://localhost:8080/",
          "height": 411
        }
      },
      "source": [
        "model = create_model()\n",
        "train_model(model)"
      ],
      "execution_count": 0,
      "outputs": [
        {
          "output_type": "stream",
          "text": [
            "Found 14284 images belonging to 6 classes.\n",
            "Found 2102 images belonging to 6 classes.\n",
            "Epoch 1/10\n",
            "1429/1429 [==============================] - 135s 95ms/step - loss: 1.1993 - accuracy: 0.5261 - val_loss: 1.7383 - val_accuracy: 0.7288\n",
            "Epoch 2/10\n",
            "1429/1429 [==============================] - 136s 95ms/step - loss: 0.5746 - accuracy: 0.7909 - val_loss: 0.1256 - val_accuracy: 0.8939\n",
            "Epoch 3/10\n",
            "1429/1429 [==============================] - 142s 99ms/step - loss: 0.3193 - accuracy: 0.8850 - val_loss: 0.0070 - val_accuracy: 0.9539\n",
            "Epoch 4/10\n",
            "1429/1429 [==============================] - 148s 103ms/step - loss: 0.2049 - accuracy: 0.9304 - val_loss: 0.1129 - val_accuracy: 0.9629\n",
            "Epoch 5/10\n",
            "1429/1429 [==============================] - 138s 97ms/step - loss: 0.1473 - accuracy: 0.9498 - val_loss: 1.5855e-05 - val_accuracy: 0.9638\n",
            "Epoch 6/10\n",
            "1429/1429 [==============================] - 138s 96ms/step - loss: 0.1078 - accuracy: 0.9628 - val_loss: 5.7992e-05 - val_accuracy: 0.9734\n",
            "Epoch 7/10\n",
            "1429/1429 [==============================] - 137s 96ms/step - loss: 0.0933 - accuracy: 0.9704 - val_loss: 0.1091 - val_accuracy: 0.9738\n",
            "Epoch 8/10\n",
            "1429/1429 [==============================] - 138s 97ms/step - loss: 0.0857 - accuracy: 0.9711 - val_loss: 0.3209 - val_accuracy: 0.9567\n",
            "Epoch 9/10\n",
            "1429/1429 [==============================] - 136s 95ms/step - loss: 0.0631 - accuracy: 0.9798 - val_loss: 6.6161e-06 - val_accuracy: 0.9757\n",
            "Epoch 10/10\n",
            "1429/1429 [==============================] - 135s 94ms/step - loss: 0.0622 - accuracy: 0.9810 - val_loss: 1.0841e-04 - val_accuracy: 0.9753\n"
          ],
          "name": "stdout"
        }
      ]
    },
    {
      "cell_type": "code",
      "metadata": {
        "id": "H6yVWZv1nAjC",
        "colab_type": "code",
        "outputId": "93ffdf11-16cd-462f-b93f-408e52c42b73",
        "colab": {
          "base_uri": "https://localhost:8080/",
          "height": 122
        }
      },
      "source": [
        "from google.colab import drive\n",
        "drive.mount('/content/gdrive')"
      ],
      "execution_count": 0,
      "outputs": [
        {
          "output_type": "stream",
          "text": [
            "Go to this URL in a browser: https://accounts.google.com/o/oauth2/auth?client_id=947318989803-6bn6qk8qdgf4n4g3pfee6491hc0brc4i.apps.googleusercontent.com&redirect_uri=urn%3aietf%3awg%3aoauth%3a2.0%3aoob&response_type=code&scope=email%20https%3a%2f%2fwww.googleapis.com%2fauth%2fdocs.test%20https%3a%2f%2fwww.googleapis.com%2fauth%2fdrive%20https%3a%2f%2fwww.googleapis.com%2fauth%2fdrive.photos.readonly%20https%3a%2f%2fwww.googleapis.com%2fauth%2fpeopleapi.readonly\n",
            "\n",
            "Enter your authorization code:\n",
            "··········\n",
            "Mounted at /content/gdrive\n"
          ],
          "name": "stdout"
        }
      ]
    }
  ]
}