{
  "nbformat": 4,
  "nbformat_minor": 0,
  "metadata": {
    "colab": {
      "name": "PolyhedralDiceClassifier.ipynb",
      "provenance": [],
      "collapsed_sections": [],
      "authorship_tag": "ABX9TyPrL4EGZ7PhId9DQjnNZsqT",
      "include_colab_link": true
    },
    "kernelspec": {
      "name": "python3",
      "display_name": "Python 3"
    },
    "accelerator": "GPU"
  },
  "cells": [
    {
      "cell_type": "markdown",
      "metadata": {
        "id": "view-in-github",
        "colab_type": "text"
      },
      "source": [
        "<a href=\"https://colab.research.google.com/github/Abhinand20/MachineLearning/blob/master/PolyhedralDiceClassifier_CNN.ipynb\" target=\"_parent\"><img src=\"https://colab.research.google.com/assets/colab-badge.svg\" alt=\"Open In Colab\"/></a>"
      ]
    },
    {
      "cell_type": "code",
      "metadata": {
        "id": "5lgE-BN4kr5_",
        "colab_type": "code",
        "colab": {
          "base_uri": "https://localhost:8080/",
          "height": 34
        },
        "outputId": "6020b586-a520-446f-e925-39e9cc677beb"
      },
      "source": [
        "import os\n",
        "from keras.models import Sequential\n",
        "from keras.layers import Dense, Conv2D, MaxPooling2D, Flatten, Dropout\n",
        "from keras.optimizers import Adam\n",
        "from keras.preprocessing.image import ImageDataGenerator"
      ],
      "execution_count": 1,
      "outputs": [
        {
          "output_type": "stream",
          "text": [
            "Using TensorFlow backend.\n"
          ],
          "name": "stderr"
        }
      ]
    },
    {
      "cell_type": "code",
      "metadata": {
        "id": "wtOR4rBykwdz",
        "colab_type": "code",
        "colab": {}
      },
      "source": [
        "keep_prob = 0.7\n",
        "\n",
        "train_dir = os.path.join('/content/gdrive/My Drive/Kaggle/dice-d4-d6-d8-d10-d12-d20/dice/train')\n",
        "\n",
        "test_dir = os.path.join('/content/gdrive/My Drive/Kaggle/dice-d4-d6-d8-d10-d12-d20/dice/valid')\n",
        "\n",
        "if not os.path.isdir('models'):\n",
        "    os.makedirs('models')"
      ],
      "execution_count": 0,
      "outputs": []
    },
    {
      "cell_type": "code",
      "metadata": {
        "id": "XpeW3wdpl_MA",
        "colab_type": "code",
        "colab": {}
      },
      "source": [
        "def create_model():\n",
        "    model = Sequential()\n",
        "    model.add(Conv2D(64 , (3,3) , activation = 'relu', input_shape = (300,300,3)))\n",
        "    model.add(MaxPooling2D(2,2))\n",
        "    model.add(Conv2D(64 , (3,3) , activation='relu'))\n",
        "    model.add(MaxPooling2D(2,2))\n",
        "    model.add(Conv2D(32 , (3,3) , activation='relu'))\n",
        "    model.add(MaxPooling2D(2,2))\n",
        "    \n",
        "    model.add(Flatten())\n",
        "    model.add(Dense(512, activation = 'relu'))\n",
        "    model.add(Dropout(keep_prob))\n",
        "    model.add(Dense(64, activation = 'relu'))\n",
        "    model.add(Dense(6, activation= 'softmax'))\n",
        "    \n",
        "    model.compile(loss = 'categorical_crossentropy', optimizer = Adam(learning_rate=0.0001), metrics = ['accuracy'])\n",
        "    \n",
        "    return model\n"
      ],
      "execution_count": 0,
      "outputs": []
    },
    {
      "cell_type": "code",
      "metadata": {
        "id": "A9pxT-qtmDes",
        "colab_type": "code",
        "colab": {}
      },
      "source": [
        "def train_model(model):\n",
        "    train_datagen = ImageDataGenerator(rescale=1./255.)\n",
        "    test_datagen = ImageDataGenerator(rescale=1./255.)\n",
        "\n",
        "    train_generator = train_datagen.flow_from_directory(\n",
        "    train_dir,\n",
        "    target_size = (300,300),\n",
        "    batch_size = 10,\n",
        "    class_mode='categorical')\n",
        "\n",
        "    test_generator = test_datagen.flow_from_directory(\n",
        "    test_dir,\n",
        "    target_size = (300,300),\n",
        "    batch_size = 10,\n",
        "    class_mode='categorical')\n",
        "    \n",
        "    train_steps = len(train_generator)\n",
        "    test_steps = len(test_generator)\n",
        "    history = model.fit_generator(\n",
        "            train_generator,\n",
        "            steps_per_epoch = train_steps,\n",
        "            epochs = 10,\n",
        "            verbose = 2,\n",
        "            validation_data = test_generator,\n",
        "            validation_steps = test_steps\n",
        "            )\n",
        "    return history"
      ],
      "execution_count": 0,
      "outputs": []
    },
    {
      "cell_type": "code",
      "metadata": {
        "id": "XK4VCZ7ysZTs",
        "colab_type": "code",
        "colab": {
          "base_uri": "https://localhost:8080/",
          "height": 391
        },
        "outputId": "88b0f21b-9932-4f3b-842d-618cab15e8c8"
      },
      "source": [
        "model = create_model()\n",
        "history = train_model(model)"
      ],
      "execution_count": 5,
      "outputs": [
        {
          "output_type": "stream",
          "text": [
            "Found 14284 images belonging to 6 classes.\n",
            "Found 2102 images belonging to 6 classes.\n",
            "Epoch 1/10\n",
            " - 130s - loss: 1.1924 - accuracy: 0.5323 - val_loss: 0.3152 - val_accuracy: 0.7702\n",
            "Epoch 2/10\n",
            " - 127s - loss: 0.5773 - accuracy: 0.7842 - val_loss: 0.0902 - val_accuracy: 0.9015\n",
            "Epoch 3/10\n",
            " - 127s - loss: 0.3232 - accuracy: 0.8877 - val_loss: 0.1316 - val_accuracy: 0.9510\n",
            "Epoch 4/10\n",
            " - 127s - loss: 0.2075 - accuracy: 0.9278 - val_loss: 0.0361 - val_accuracy: 0.9667\n",
            "Epoch 5/10\n",
            " - 128s - loss: 0.1454 - accuracy: 0.9509 - val_loss: 0.0137 - val_accuracy: 0.9596\n",
            "Epoch 6/10\n",
            " - 128s - loss: 0.1142 - accuracy: 0.9618 - val_loss: 0.0118 - val_accuracy: 0.9724\n",
            "Epoch 7/10\n",
            " - 127s - loss: 0.0938 - accuracy: 0.9693 - val_loss: 9.3695e-04 - val_accuracy: 0.9681\n",
            "Epoch 8/10\n",
            " - 127s - loss: 0.0724 - accuracy: 0.9736 - val_loss: 2.4795e-04 - val_accuracy: 0.9753\n",
            "Epoch 9/10\n",
            " - 128s - loss: 0.0717 - accuracy: 0.9771 - val_loss: 0.0057 - val_accuracy: 0.9734\n",
            "Epoch 10/10\n",
            " - 127s - loss: 0.0624 - accuracy: 0.9798 - val_loss: 2.6166e-05 - val_accuracy: 0.9681\n"
          ],
          "name": "stdout"
        }
      ]
    },
    {
      "cell_type": "code",
      "metadata": {
        "id": "ex55Sp5MIMDW",
        "colab_type": "code",
        "colab": {
          "base_uri": "https://localhost:8080/",
          "height": 545
        },
        "outputId": "23109f9f-6b40-4bb9-d3e5-b8b9362c74e8"
      },
      "source": [
        "import matplotlib.pyplot as plt\n",
        "acc = history.history['accuracy']\n",
        "val_acc = history.history['val_accuracy']\n",
        "loss = history.history['loss'] \n",
        "val_loss = history.history['val_loss'] \n",
        "\n",
        "epochs = range(len(acc))\n",
        "\n",
        "plt.plot(epochs, acc, 'r', label='Training accuracy')\n",
        "plt.plot(epochs, val_acc, 'b', label='Validation accuracy')\n",
        "plt.title('Training and validation accuracy')\n",
        "plt.legend()\n",
        "plt.figure()\n",
        "\n",
        "plt.plot(epochs, loss, 'r', label='Training Loss')\n",
        "plt.plot(epochs, val_loss, 'b', label='Validation Loss')\n",
        "plt.title('Training and validation loss')\n",
        "plt.legend()\n",
        "\n",
        "plt.show()"
      ],
      "execution_count": 6,
      "outputs": [
        {
          "output_type": "display_data",
          "data": {
            "image/png": "[encoded data removed]",
            "text/plain": [
              "<Figure size 432x288 with 1 Axes>"
            ]
          },
          "metadata": {
            "tags": [],
            "needs_background": "light"
          }
        },
        {
          "output_type": "display_data",
          "data": {
            "image/png": "[encoded data removed]",
            "text/plain": [
              "<Figure size 432x288 with 1 Axes>"
            ]
          },
          "metadata": {
            "tags": [],
            "needs_background": "light"
          }
        }
      ]
    }
  ]
}